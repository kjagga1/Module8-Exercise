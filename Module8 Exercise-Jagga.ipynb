{
 "cells": [
  {
   "cell_type": "markdown",
   "metadata": {},
   "source": [
    "### Exercise 1\n",
    "Create a multiplication table from 1 to 10"
   ]
  },
  {
   "cell_type": "code",
   "execution_count": 13,
   "metadata": {},
   "outputs": [
    {
     "name": "stdout",
     "output_type": "stream",
     "text": [
      "1\t2\t3\t4\t5\t6\t7\t8\t9\t10\t<Hows is that\n",
      "2\t4\t6\t8\t10\t12\t14\t16\t18\t20\t<Hows is that\n",
      "3\t6\t9\t12\t15\t18\t21\t24\t27\t30\t<Hows is that\n",
      "4\t8\t12\t16\t20\t24\t28\t32\t36\t40\t<Hows is that\n",
      "5\t10\t15\t20\t25\t30\t35\t40\t45\t50\t<Hows is that\n",
      "6\t12\t18\t24\t30\t36\t42\t48\t54\t60\t<Hows is that\n",
      "7\t14\t21\t28\t35\t42\t49\t56\t63\t70\t<Hows is that\n",
      "8\t16\t24\t32\t40\t48\t56\t64\t72\t80\t<Hows is that\n",
      "9\t18\t27\t36\t45\t54\t63\t72\t81\t90\t<Hows is that\n",
      "10\t20\t30\t40\t50\t60\t70\t80\t90\t100\t<Hows is that\n"
     ]
    }
   ],
   "source": [
    "for j in range(1,11):\n",
    "    for k in range(1,11):\n",
    "        print(j * k,end='\\t')\n",
    "    print('<Hows is that')"
   ]
  },
  {
   "cell_type": "markdown",
   "metadata": {},
   "source": [
    "### Exercise 2\n",
    "Write a program to find the Fibonacci numbers where each number is the sum of the two preceding ones, starting from 0 and 1. \n",
    "\n",
    "    e.g.\n",
    "    0, 1, 1, 2, 3, 5, 8, ...\n",
    "    \n",
    "Ask a user to enter a number of sequence. Generate the Fibonacci numbers in to a list. Then, print out the list.  \n",
    "\n",
    "The output should look something like this:\n",
    "\n",
    "    How many Fibonacci numbers would you like to generate? 10    \n",
    "    10 Fibonacci numbers are [0, 1, 1, 2, 3, 5, 8, 13, 21, 34]."
   ]
  },
  {
   "cell_type": "code",
   "execution_count": 24,
   "metadata": {},
   "outputs": [
    {
     "name": "stdout",
     "output_type": "stream",
     "text": [
      "Fibonacci numbers\n",
      "0 1 1 2 3 5 8 13 21 34 \n"
     ]
    },
    {
     "data": {
      "text/plain": [
       "21"
      ]
     },
     "execution_count": 24,
     "metadata": {},
     "output_type": "execute_result"
    }
   ],
   "source": [
    "def fibo(n):\n",
    "    a=1\n",
    "    b=1\n",
    "    if n==1:\n",
    "        print('0')\n",
    "    elif n==2:\n",
    "        print('0','1')\n",
    "    else:\n",
    "        print(\"Fibonacci numbers\")\n",
    "        print('0',a,b, end=' ')\n",
    "        for i in range(n-3):\n",
    "            total = a + b\n",
    "            b=a\n",
    "            a= total\n",
    "            print(total,end=' ')\n",
    "        print()\n",
    "        return b\n",
    "         \n",
    "fibo(10)\n"
   ]
  },
  {
   "cell_type": "code",
   "execution_count": null,
   "metadata": {},
   "outputs": [],
   "source": []
  }
 ],
 "metadata": {
  "kernelspec": {
   "display_name": "Python 3",
   "language": "python",
   "name": "python3"
  },
  "language_info": {
   "codemirror_mode": {
    "name": "ipython",
    "version": 3
   },
   "file_extension": ".py",
   "mimetype": "text/x-python",
   "name": "python",
   "nbconvert_exporter": "python",
   "pygments_lexer": "ipython3",
   "version": "3.8.8"
  }
 },
 "nbformat": 4,
 "nbformat_minor": 4
}
